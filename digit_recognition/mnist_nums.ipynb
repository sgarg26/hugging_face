{
 "cells": [
  {
   "cell_type": "code",
   "execution_count": 1,
   "metadata": {},
   "outputs": [],
   "source": [
    "import torch\n",
    "import torch.nn as nn\n",
    "import pickle, gzip\n",
    "from torch.utils.data import Dataset, DataLoader\n",
    "from matplotlib import pyplot as plt"
   ]
  },
  {
   "cell_type": "code",
   "execution_count": 2,
   "metadata": {},
   "outputs": [],
   "source": [
    "device = \"cuda\" if torch.cuda.is_available() else \"cpu\""
   ]
  },
  {
   "cell_type": "code",
   "execution_count": 3,
   "metadata": {},
   "outputs": [],
   "source": [
    "import gzip, pickle\n",
    "\n",
    "with gzip.open(\"mnist.pkl.gz\", \"rb\") as f:\n",
    "    ((x_train, y_train), (x_test, y_test), _) = pickle.load(f, encoding=\"latin-1\")"
   ]
  },
  {
   "cell_type": "code",
   "execution_count": 4,
   "metadata": {},
   "outputs": [],
   "source": [
    "x_train, y_train, x_test, y_test = map(\n",
    "    torch.tensor, (x_train, y_train, x_test, y_test)\n",
    ")"
   ]
  },
  {
   "cell_type": "code",
   "execution_count": 5,
   "metadata": {},
   "outputs": [],
   "source": [
    "def show(sample: torch.Tensor): plt.imshow(sample.reshape((28, 28)), cmap=\"gray\")"
   ]
  },
  {
   "cell_type": "code",
   "execution_count": 6,
   "metadata": {},
   "outputs": [],
   "source": [
    "class NumbersDataset(Dataset):\n",
    "    def __init__(self, X=x_train, y=y_train):\n",
    "        self.X = X\n",
    "        self.y = y\n",
    "\n",
    "    def __len__(self):\n",
    "        return len(self.X)\n",
    "    \n",
    "    def __getitem__(self, idx):\n",
    "        return (self.X[idx], self.y[idx])"
   ]
  },
  {
   "cell_type": "code",
   "execution_count": 7,
   "metadata": {},
   "outputs": [],
   "source": [
    "digits_train = DataLoader(NumbersDataset(x_train, y_train), batch_size=64, shuffle=True)\n",
    "digits_test = DataLoader(NumbersDataset(x_test, y_test), batch_size=64)"
   ]
  },
  {
   "cell_type": "code",
   "execution_count": 8,
   "metadata": {},
   "outputs": [],
   "source": [
    "for images, labels in digits_test:\n",
    "    image = images\n",
    "    label = labels\n",
    "    break"
   ]
  },
  {
   "cell_type": "code",
   "execution_count": 8,
   "metadata": {},
   "outputs": [],
   "source": [
    "class Model(nn.Module):\n",
    "    def __init__(self, num_classes=10):\n",
    "        super().__init__()\n",
    "        self.classifier = nn.Sequential(\n",
    "            nn.Linear(784, 128),\n",
    "            nn.Linear(128, num_classes)\n",
    "        )\n",
    "\n",
    "    def forward(self, xb):\n",
    "        return self.classifier(xb)"
   ]
  },
  {
   "cell_type": "code",
   "execution_count": 9,
   "metadata": {},
   "outputs": [],
   "source": [
    "import torch.optim as optim\n",
    "\n",
    "model = Model().to(device)\n",
    "\n",
    "optimizer = optim.Adam(model.parameters(), lr=0.0001)\n",
    "loss_func = nn.CrossEntropyLoss()"
   ]
  },
  {
   "cell_type": "code",
   "execution_count": 10,
   "metadata": {},
   "outputs": [
    {
     "name": "stdout",
     "output_type": "stream",
     "text": [
      "Epoch 1/100 - Train loss: 0.014484068942070008\n",
      "Epoch 2/100 - Train loss: 0.006281161097288132\n",
      "Epoch 3/100 - Train loss: 0.00529140009790659\n",
      "Epoch 4/100 - Train loss: 0.004912906110286713\n",
      "Epoch 5/100 - Train loss: 0.00469989223241806\n",
      "Epoch 6/100 - Train loss: 0.004559207837581634\n",
      "Epoch 7/100 - Train loss: 0.0044576895678043365\n",
      "Epoch 8/100 - Train loss: 0.004383968220949173\n",
      "Epoch 9/100 - Train loss: 0.004321312737315893\n",
      "Epoch 10/100 - Train loss: 0.004262990467697382\n",
      "Epoch 11/100 - Train loss: 0.004226037752628326\n",
      "Epoch 12/100 - Train loss: 0.004179195389971137\n",
      "Epoch 13/100 - Train loss: 0.004144041358232499\n",
      "Epoch 14/100 - Train loss: 0.004114227118641138\n",
      "Epoch 15/100 - Train loss: 0.0040870846429467205\n",
      "Epoch 16/100 - Train loss: 0.004058111084625125\n",
      "Epoch 17/100 - Train loss: 0.004030489988029003\n",
      "Epoch 18/100 - Train loss: 0.004012233206480742\n",
      "Epoch 19/100 - Train loss: 0.003996496716886759\n",
      "Epoch 20/100 - Train loss: 0.003975837300419807\n",
      "Epoch 21/100 - Train loss: 0.003954888993650675\n",
      "Epoch 22/100 - Train loss: 0.003941997466981411\n",
      "Epoch 23/100 - Train loss: 0.003922723124921322\n",
      "Epoch 24/100 - Train loss: 0.00390552478723228\n",
      "Epoch 25/100 - Train loss: 0.0038920376992225645\n",
      "Epoch 26/100 - Train loss: 0.0038836600859463214\n",
      "Epoch 27/100 - Train loss: 0.0038668613511323928\n",
      "Epoch 28/100 - Train loss: 0.0038563758666068314\n",
      "Epoch 29/100 - Train loss: 0.0038478975278884173\n",
      "Epoch 30/100 - Train loss: 0.0038319875416904688\n",
      "Epoch 31/100 - Train loss: 0.0038254364913702012\n",
      "Epoch 32/100 - Train loss: 0.003812496192231774\n",
      "Epoch 33/100 - Train loss: 0.003804968579225242\n",
      "Epoch 34/100 - Train loss: 0.0037969813402742147\n",
      "Epoch 35/100 - Train loss: 0.0037842482934892178\n",
      "Epoch 36/100 - Train loss: 0.003774910566061735\n",
      "Epoch 37/100 - Train loss: 0.0037745064215362074\n",
      "Epoch 38/100 - Train loss: 0.003761730720102787\n",
      "Epoch 39/100 - Train loss: 0.003752585925012827\n",
      "Epoch 40/100 - Train loss: 0.0037464486325532198\n",
      "Epoch 41/100 - Train loss: 0.003736920279338956\n",
      "Epoch 42/100 - Train loss: 0.003743430229797959\n",
      "Epoch 43/100 - Train loss: 0.003719972426071763\n",
      "Epoch 44/100 - Train loss: 0.0037236660593003034\n",
      "Epoch 45/100 - Train loss: 0.0037131844986230136\n",
      "Epoch 46/100 - Train loss: 0.0037132390319555997\n",
      "Epoch 47/100 - Train loss: 0.003702880448848009\n",
      "Epoch 48/100 - Train loss: 0.003699017449617386\n",
      "Epoch 49/100 - Train loss: 0.00369685213021934\n",
      "Epoch 50/100 - Train loss: 0.0036833250363171102\n",
      "Epoch 51/100 - Train loss: 0.0036778188744187356\n",
      "Epoch 52/100 - Train loss: 0.0036714474081993103\n",
      "Epoch 53/100 - Train loss: 0.0036700045314431193\n",
      "Epoch 54/100 - Train loss: 0.0036640836141258477\n",
      "Epoch 55/100 - Train loss: 0.003665031630769372\n",
      "Epoch 56/100 - Train loss: 0.0036666275741904972\n",
      "Epoch 57/100 - Train loss: 0.0036537325023114683\n",
      "Epoch 58/100 - Train loss: 0.0036584342148900033\n",
      "Epoch 59/100 - Train loss: 0.003644872295707464\n",
      "Epoch 60/100 - Train loss: 0.0036366444539278745\n",
      "Epoch 61/100 - Train loss: 0.0036369225115329027\n",
      "Epoch 62/100 - Train loss: 0.0036309593645483256\n",
      "Epoch 63/100 - Train loss: 0.003625965755432844\n",
      "Epoch 64/100 - Train loss: 0.0036127866604179146\n",
      "Epoch 65/100 - Train loss: 0.003620172179490328\n",
      "Epoch 66/100 - Train loss: 0.0036147920288145544\n",
      "Epoch 67/100 - Train loss: 0.003613878979831934\n",
      "Epoch 68/100 - Train loss: 0.003612099610120058\n",
      "Epoch 69/100 - Train loss: 0.0036019365056604146\n",
      "Epoch 70/100 - Train loss: 0.0036029087624698877\n",
      "Epoch 71/100 - Train loss: 0.003600032599195838\n",
      "Epoch 72/100 - Train loss: 0.003589594645947218\n",
      "Epoch 73/100 - Train loss: 0.003584834134057164\n",
      "Epoch 74/100 - Train loss: 0.0035851154389232396\n",
      "Epoch 75/100 - Train loss: 0.0035840108643472196\n",
      "Epoch 76/100 - Train loss: 0.0035789039420336486\n",
      "Epoch 77/100 - Train loss: 0.003586985723748803\n",
      "Epoch 78/100 - Train loss: 0.0035744900429993866\n",
      "Epoch 79/100 - Train loss: 0.003571913717389107\n",
      "Epoch 80/100 - Train loss: 0.003562664837539196\n",
      "Epoch 81/100 - Train loss: 0.0035630064766854048\n",
      "Epoch 82/100 - Train loss: 0.003561767334342003\n",
      "Epoch 83/100 - Train loss: 0.003563804665468633\n",
      "Epoch 84/100 - Train loss: 0.0035503115815669296\n",
      "Epoch 85/100 - Train loss: 0.0035469063217192886\n",
      "Epoch 86/100 - Train loss: 0.0035511310204863547\n",
      "Epoch 87/100 - Train loss: 0.00354807744525373\n",
      "Epoch 88/100 - Train loss: 0.0035477828481048344\n",
      "Epoch 89/100 - Train loss: 0.0035361480090022085\n",
      "Epoch 90/100 - Train loss: 0.0035426020254939795\n",
      "Epoch 91/100 - Train loss: 0.0035370979928970336\n",
      "Epoch 92/100 - Train loss: 0.0035305795922875405\n",
      "Epoch 93/100 - Train loss: 0.003538992676213384\n",
      "Epoch 94/100 - Train loss: 0.0035307955873012543\n",
      "Epoch 95/100 - Train loss: 0.0035307269060611724\n",
      "Epoch 96/100 - Train loss: 0.003521437389627099\n",
      "Epoch 97/100 - Train loss: 0.0035168129660189153\n",
      "Epoch 98/100 - Train loss: 0.0035151501820608975\n",
      "Epoch 99/100 - Train loss: 0.003516209615021944\n",
      "Epoch 100/100 - Train loss: 0.0035220530029386283\n"
     ]
    }
   ],
   "source": [
    "epochs = 100\n",
    "train_losses = []\n",
    "\n",
    "for epoch in range(epochs):\n",
    "    model.train()\n",
    "    running_loss = 0.0\n",
    "    for data, labels in digits_train:\n",
    "        data, labels = data.to(device), labels.to(device)\n",
    "        optimizer.zero_grad()\n",
    "        preds = model(data).to(device)\n",
    "        loss = loss_func(preds, labels.long())\n",
    "        loss.backward()\n",
    "        optimizer.step()\n",
    "        running_loss += loss.item()\n",
    "    train_loss = running_loss / len(digits_train.dataset)\n",
    "    train_losses.append(train_loss)\n",
    "    print(f\"Epoch {epoch + 1}/{epochs} - Train loss: {train_loss}\")"
   ]
  },
  {
   "cell_type": "code",
   "execution_count": 11,
   "metadata": {},
   "outputs": [],
   "source": [
    "torch.save(model.state_dict(), \"./model.pth\")"
   ]
  },
  {
   "cell_type": "code",
   "execution_count": 12,
   "metadata": {},
   "outputs": [],
   "source": [
    "model.eval()\n",
    "test_preds = model(digits_test.dataset[:][0].to(device))"
   ]
  },
  {
   "cell_type": "code",
   "execution_count": 84,
   "metadata": {},
   "outputs": [
    {
     "data": {
      "text/plain": [
       "tensor(3)"
      ]
     },
     "execution_count": 84,
     "metadata": {},
     "output_type": "execute_result"
    }
   ],
   "source": [
    "digits_test.dataset[0][1]"
   ]
  },
  {
   "cell_type": "code",
   "execution_count": 91,
   "metadata": {},
   "outputs": [
    {
     "data": {
      "text/plain": [
       "tensor([-2.7788,  2.5870,  3.7705,  5.7841, -4.1750,  1.9488, -0.3270, -7.4602,\n",
       "         2.8783, -5.2233], device='cuda:0', grad_fn=<SelectBackward0>)"
      ]
     },
     "execution_count": 91,
     "metadata": {},
     "output_type": "execute_result"
    }
   ],
   "source": [
    "test_preds[0]"
   ]
  },
  {
   "cell_type": "code",
   "execution_count": 13,
   "metadata": {},
   "outputs": [],
   "source": [
    "_, predicted_labels = torch.max(test_preds, 1)"
   ]
  },
  {
   "cell_type": "code",
   "execution_count": 14,
   "metadata": {},
   "outputs": [],
   "source": [
    "true_labels = digits_test.dataset[:][1]"
   ]
  },
  {
   "cell_type": "code",
   "execution_count": 103,
   "metadata": {},
   "outputs": [
    {
     "data": {
      "text/plain": [
       "torch.Size([10000])"
      ]
     },
     "execution_count": 103,
     "metadata": {},
     "output_type": "execute_result"
    }
   ],
   "source": [
    "predicted_labels.size()"
   ]
  },
  {
   "cell_type": "code",
   "execution_count": 15,
   "metadata": {},
   "outputs": [],
   "source": [
    "correct = (predicted_labels.to(device) == true_labels.to(device)).sum().item()"
   ]
  },
  {
   "cell_type": "code",
   "execution_count": 16,
   "metadata": {},
   "outputs": [
    {
     "data": {
      "text/plain": [
       "0.9309"
      ]
     },
     "execution_count": 16,
     "metadata": {},
     "output_type": "execute_result"
    }
   ],
   "source": [
    "correct / 10000"
   ]
  }
 ],
 "metadata": {
  "kernelspec": {
   "display_name": ".venv",
   "language": "python",
   "name": "python3"
  },
  "language_info": {
   "codemirror_mode": {
    "name": "ipython",
    "version": 3
   },
   "file_extension": ".py",
   "mimetype": "text/x-python",
   "name": "python",
   "nbconvert_exporter": "python",
   "pygments_lexer": "ipython3",
   "version": "3.11.9"
  }
 },
 "nbformat": 4,
 "nbformat_minor": 2
}
